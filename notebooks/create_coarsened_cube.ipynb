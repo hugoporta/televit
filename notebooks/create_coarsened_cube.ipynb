{
 "cells": [
  {
   "cell_type": "code",
   "execution_count": 2,
   "metadata": {},
   "outputs": [],
   "source": [
    "import xarray as xr\n",
    "import dask"
   ]
  },
  {
   "cell_type": "markdown",
   "metadata": {},
   "source": [
    "**Make sure to first download the SeasFire dataset following the details in the readme**"
   ]
  },
  {
   "cell_type": "code",
   "execution_count": 4,
   "metadata": {},
   "outputs": [],
   "source": [
    "# Configuration\n",
    "\n",
    "# path to original dataset\n",
    "ds_path = \"/home/hporta/code_project/xai-wc/XAI-Weather-Climate/data/seasfire_0.25deg.zarr\"\n",
    "\n",
    "# path to output dataset (coarsened)\n",
    "ds_coarse_path = \"/home/hporta/code_project/xai-wc/XAI-Weather-Climate/data/seasfire_1deg.zarr\"\n",
    "\n",
    "# coarsening factor (4 -> from 0.25 degree to 1 degree)\n",
    "coarse_factor = 4"
   ]
  },
  {
   "cell_type": "code",
   "execution_count": 5,
   "metadata": {},
   "outputs": [],
   "source": [
    "ds = xr.open_zarr(ds_path)"
   ]
  },
  {
   "cell_type": "code",
   "execution_count": 6,
   "metadata": {},
   "outputs": [],
   "source": [
    "with dask.config.set(**{'array.slicing.split_large_chunks': False}):\n",
    "    ds_coarse = ds.coarsen(latitude=4, longitude=4).mean()\n",
    "\n",
    "    sum_vars = ['area',\n",
    "    'cams_co2fire',\n",
    "    'cams_frpfire',\n",
    "    'fcci_ba',\n",
    "    'fcci_fraction_of_burnable_area',\n",
    "    'fcci_fraction_of_observed_area',\n",
    "    'fcci_number_of_patches',\n",
    "    'gfed_ba',\n",
    "    'gwis_ba']\n",
    "    for var in sum_vars:\n",
    "        ds_coarse[var] = ds[var].coarsen(latitude=4, longitude=4).sum()\n",
    "\n",
    "    mode_vars = ['gfed_region']\n",
    "    for var in mode_vars:\n",
    "        ds_coarse[var] = ds[var].coarsen(latitude=4, longitude=4).median()"
   ]
  },
  {
   "cell_type": "code",
   "execution_count": 7,
   "metadata": {},
   "outputs": [
    {
     "data": {
      "text/plain": [
       "<xarray.backends.zarr.ZarrStore at 0x7c67cb0a4700>"
      ]
     },
     "execution_count": 7,
     "metadata": {},
     "output_type": "execute_result"
    }
   ],
   "source": [
    "chunk_dict = {'time': -1, 'latitude': -1, 'longitude': -1}\n",
    "\n",
    "for var in ds_coarse:\n",
    "    if ds_coarse[var].encoding.get('chunks'):\n",
    "        del ds_coarse[var].encoding['chunks']\n",
    "    if ds_coarse[var].encoding.get('preferred_chunks'):\n",
    "        del ds_coarse[var].encoding['preferred_chunks']\n",
    "for var in ds_coarse.coords:\n",
    "    if ds_coarse[var].encoding.get('chunks'):\n",
    "        del ds_coarse[var].encoding['chunks']\n",
    "    if ds_coarse[var].encoding.get('preferred_chunks'):\n",
    "        del ds_coarse[var].encoding['preferred_chunks']\n",
    "ds_coarse.chunk(chunk_dict).to_zarr(ds_coarse_path, consolidated=True)"
   ]
  }
 ],
 "metadata": {
  "kernelspec": {
   "display_name": "xai-env",
   "language": "python",
   "name": "python3"
  },
  "language_info": {
   "codemirror_mode": {
    "name": "ipython",
    "version": 3
   },
   "file_extension": ".py",
   "mimetype": "text/x-python",
   "name": "python",
   "nbconvert_exporter": "python",
   "pygments_lexer": "ipython3",
   "version": "3.10.6"
  },
  "orig_nbformat": 4
 },
 "nbformat": 4,
 "nbformat_minor": 2
}
